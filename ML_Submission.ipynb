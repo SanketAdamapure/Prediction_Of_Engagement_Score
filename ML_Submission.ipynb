{
 "cells": [
  {
   "cell_type": "markdown",
   "id": "9cde5c04",
   "metadata": {},
   "source": [
    "# Prediction_Of_Engagement_Score\n",
    "## Problem Statement\n",
    "* To develop the machine learning approach to predict the engagement score of the video on the user level."
   ]
  },
  {
   "cell_type": "code",
   "execution_count": 1,
   "id": "e4a7c696",
   "metadata": {},
   "outputs": [],
   "source": [
    "## Importing Liabraries.\n",
    "import pandas as pd\n",
    "import numpy as np\n",
    "import seaborn as sns\n",
    "import matplotlib.pyplot as plt"
   ]
  },
  {
   "cell_type": "code",
   "execution_count": 2,
   "id": "3449ef66",
   "metadata": {},
   "outputs": [],
   "source": [
    "## machine learning\n",
    "from sklearn.svm import SVC, LinearSVC\n",
    "from sklearn.ensemble import RandomForestClassifier\n",
    "from sklearn.neighbors import KNeighborsClassifier\n",
    "from sklearn.tree import DecisionTreeClassifier"
   ]
  },
  {
   "cell_type": "code",
   "execution_count": 3,
   "id": "4b1e5e31",
   "metadata": {},
   "outputs": [],
   "source": [
    "dftrain = pd.read_csv(\"engagement score.csv\")\n",
    "dftest  = pd.read_csv(\"engagement_test.csv\")"
   ]
  },
  {
   "cell_type": "code",
   "execution_count": 4,
   "id": "961311de",
   "metadata": {},
   "outputs": [
    {
     "data": {
      "text/html": [
       "<div>\n",
       "<style scoped>\n",
       "    .dataframe tbody tr th:only-of-type {\n",
       "        vertical-align: middle;\n",
       "    }\n",
       "\n",
       "    .dataframe tbody tr th {\n",
       "        vertical-align: top;\n",
       "    }\n",
       "\n",
       "    .dataframe thead th {\n",
       "        text-align: right;\n",
       "    }\n",
       "</style>\n",
       "<table border=\"1\" class=\"dataframe\">\n",
       "  <thead>\n",
       "    <tr style=\"text-align: right;\">\n",
       "      <th></th>\n",
       "      <th>row_id</th>\n",
       "      <th>user_id</th>\n",
       "      <th>category_id</th>\n",
       "      <th>video_id</th>\n",
       "      <th>age</th>\n",
       "      <th>gender</th>\n",
       "      <th>profession</th>\n",
       "      <th>followers</th>\n",
       "      <th>views</th>\n",
       "    </tr>\n",
       "  </thead>\n",
       "  <tbody>\n",
       "    <tr>\n",
       "      <th>0</th>\n",
       "      <td>89198</td>\n",
       "      <td>7986</td>\n",
       "      <td>12</td>\n",
       "      <td>42</td>\n",
       "      <td>14</td>\n",
       "      <td>Male</td>\n",
       "      <td>Student</td>\n",
       "      <td>180</td>\n",
       "      <td>138</td>\n",
       "    </tr>\n",
       "    <tr>\n",
       "      <th>1</th>\n",
       "      <td>89199</td>\n",
       "      <td>11278</td>\n",
       "      <td>34</td>\n",
       "      <td>115</td>\n",
       "      <td>14</td>\n",
       "      <td>Male</td>\n",
       "      <td>Student</td>\n",
       "      <td>230</td>\n",
       "      <td>840</td>\n",
       "    </tr>\n",
       "    <tr>\n",
       "      <th>2</th>\n",
       "      <td>89200</td>\n",
       "      <td>17245</td>\n",
       "      <td>8</td>\n",
       "      <td>110</td>\n",
       "      <td>44</td>\n",
       "      <td>Female</td>\n",
       "      <td>Working Professional</td>\n",
       "      <td>280</td>\n",
       "      <td>628</td>\n",
       "    </tr>\n",
       "    <tr>\n",
       "      <th>3</th>\n",
       "      <td>89201</td>\n",
       "      <td>9851</td>\n",
       "      <td>16</td>\n",
       "      <td>137</td>\n",
       "      <td>18</td>\n",
       "      <td>Male</td>\n",
       "      <td>Student</td>\n",
       "      <td>270</td>\n",
       "      <td>462</td>\n",
       "    </tr>\n",
       "    <tr>\n",
       "      <th>4</th>\n",
       "      <td>89202</td>\n",
       "      <td>16008</td>\n",
       "      <td>34</td>\n",
       "      <td>96</td>\n",
       "      <td>47</td>\n",
       "      <td>Female</td>\n",
       "      <td>Other</td>\n",
       "      <td>230</td>\n",
       "      <td>840</td>\n",
       "    </tr>\n",
       "  </tbody>\n",
       "</table>\n",
       "</div>"
      ],
      "text/plain": [
       "   row_id  user_id  category_id  video_id  age  gender            profession  \\\n",
       "0   89198     7986           12        42   14    Male               Student   \n",
       "1   89199    11278           34       115   14    Male               Student   \n",
       "2   89200    17245            8       110   44  Female  Working Professional   \n",
       "3   89201     9851           16       137   18    Male               Student   \n",
       "4   89202    16008           34        96   47  Female                 Other   \n",
       "\n",
       "   followers  views  \n",
       "0        180    138  \n",
       "1        230    840  \n",
       "2        280    628  \n",
       "3        270    462  \n",
       "4        230    840  "
      ]
     },
     "execution_count": 4,
     "metadata": {},
     "output_type": "execute_result"
    }
   ],
   "source": [
    "dftest.head()"
   ]
  },
  {
   "cell_type": "code",
   "execution_count": 5,
   "id": "ebe68a86",
   "metadata": {},
   "outputs": [
    {
     "data": {
      "text/html": [
       "<div>\n",
       "<style scoped>\n",
       "    .dataframe tbody tr th:only-of-type {\n",
       "        vertical-align: middle;\n",
       "    }\n",
       "\n",
       "    .dataframe tbody tr th {\n",
       "        vertical-align: top;\n",
       "    }\n",
       "\n",
       "    .dataframe thead th {\n",
       "        text-align: right;\n",
       "    }\n",
       "</style>\n",
       "<table border=\"1\" class=\"dataframe\">\n",
       "  <thead>\n",
       "    <tr style=\"text-align: right;\">\n",
       "      <th></th>\n",
       "      <th>row_id</th>\n",
       "      <th>user_id</th>\n",
       "      <th>category_id</th>\n",
       "      <th>video_id</th>\n",
       "      <th>age</th>\n",
       "      <th>gender</th>\n",
       "      <th>profession</th>\n",
       "      <th>followers</th>\n",
       "      <th>views</th>\n",
       "      <th>engagement_score</th>\n",
       "    </tr>\n",
       "  </thead>\n",
       "  <tbody>\n",
       "    <tr>\n",
       "      <th>0</th>\n",
       "      <td>1</td>\n",
       "      <td>19990</td>\n",
       "      <td>37</td>\n",
       "      <td>128</td>\n",
       "      <td>24</td>\n",
       "      <td>Male</td>\n",
       "      <td>Student</td>\n",
       "      <td>180</td>\n",
       "      <td>1000</td>\n",
       "      <td>4.33</td>\n",
       "    </tr>\n",
       "    <tr>\n",
       "      <th>1</th>\n",
       "      <td>2</td>\n",
       "      <td>5304</td>\n",
       "      <td>32</td>\n",
       "      <td>132</td>\n",
       "      <td>14</td>\n",
       "      <td>Female</td>\n",
       "      <td>Student</td>\n",
       "      <td>330</td>\n",
       "      <td>714</td>\n",
       "      <td>1.79</td>\n",
       "    </tr>\n",
       "    <tr>\n",
       "      <th>2</th>\n",
       "      <td>3</td>\n",
       "      <td>1840</td>\n",
       "      <td>12</td>\n",
       "      <td>24</td>\n",
       "      <td>19</td>\n",
       "      <td>Male</td>\n",
       "      <td>Student</td>\n",
       "      <td>180</td>\n",
       "      <td>138</td>\n",
       "      <td>4.35</td>\n",
       "    </tr>\n",
       "    <tr>\n",
       "      <th>3</th>\n",
       "      <td>4</td>\n",
       "      <td>12597</td>\n",
       "      <td>23</td>\n",
       "      <td>112</td>\n",
       "      <td>19</td>\n",
       "      <td>Male</td>\n",
       "      <td>Student</td>\n",
       "      <td>220</td>\n",
       "      <td>613</td>\n",
       "      <td>3.77</td>\n",
       "    </tr>\n",
       "    <tr>\n",
       "      <th>4</th>\n",
       "      <td>5</td>\n",
       "      <td>13626</td>\n",
       "      <td>23</td>\n",
       "      <td>112</td>\n",
       "      <td>27</td>\n",
       "      <td>Male</td>\n",
       "      <td>Working Professional</td>\n",
       "      <td>220</td>\n",
       "      <td>613</td>\n",
       "      <td>3.13</td>\n",
       "    </tr>\n",
       "  </tbody>\n",
       "</table>\n",
       "</div>"
      ],
      "text/plain": [
       "   row_id  user_id  category_id  video_id  age  gender            profession  \\\n",
       "0       1    19990           37       128   24    Male               Student   \n",
       "1       2     5304           32       132   14  Female               Student   \n",
       "2       3     1840           12        24   19    Male               Student   \n",
       "3       4    12597           23       112   19    Male               Student   \n",
       "4       5    13626           23       112   27    Male  Working Professional   \n",
       "\n",
       "   followers  views  engagement_score  \n",
       "0        180   1000              4.33  \n",
       "1        330    714              1.79  \n",
       "2        180    138              4.35  \n",
       "3        220    613              3.77  \n",
       "4        220    613              3.13  "
      ]
     },
     "execution_count": 5,
     "metadata": {},
     "output_type": "execute_result"
    }
   ],
   "source": [
    "dftrain.head()"
   ]
  },
  {
   "cell_type": "code",
   "execution_count": 6,
   "id": "91e274c4",
   "metadata": {},
   "outputs": [
    {
     "data": {
      "text/plain": [
       "(89197, 10)"
      ]
     },
     "execution_count": 6,
     "metadata": {},
     "output_type": "execute_result"
    }
   ],
   "source": [
    "''' shape function, which helps us to find the shape or size of an array or matrix. \n",
    "    The function \"shape\" returns the shape of an array. The shape is a tuple of integers.\n",
    "    '''\n",
    "dftrain.shape"
   ]
  },
  {
   "cell_type": "markdown",
   "id": "f5614fed",
   "metadata": {},
   "source": [
    "### In out Dataset there is 89197 Observation and 10 Features."
   ]
  },
  {
   "cell_type": "markdown",
   "id": "45879bdc",
   "metadata": {},
   "source": [
    "### Project Planning\n",
    "When starting any project, I like to outline the steps that I plan to take. Below is the rough outline that I created for this project using commented cells."
   ]
  },
  {
   "cell_type": "code",
   "execution_count": 7,
   "id": "57449eb9",
   "metadata": {},
   "outputs": [],
   "source": [
    "# Understand nature of the data .info() .describe()\n",
    "# Histograms  \n",
    "# Value counts \n",
    "# HeatMap \n",
    "# Correlation between the metrics \n",
    " \n",
    "\n",
    "# Feature engineering \n",
    "# preprocess data together or use a transformer? \n",
    "    # use label for train and test   \n",
    "# Scaling?\n",
    "\n"
   ]
  },
  {
   "cell_type": "code",
   "execution_count": 8,
   "id": "afb4f8af",
   "metadata": {},
   "outputs": [
    {
     "data": {
      "text/plain": [
       "row_id              0\n",
       "user_id             0\n",
       "category_id         0\n",
       "video_id            0\n",
       "age                 0\n",
       "gender              0\n",
       "profession          0\n",
       "followers           0\n",
       "views               0\n",
       "engagement_score    0\n",
       "dtype: int64"
      ]
     },
     "execution_count": 8,
     "metadata": {},
     "output_type": "execute_result"
    }
   ],
   "source": [
    "dftrain.isnull().sum()"
   ]
  },
  {
   "cell_type": "markdown",
   "id": "4a27fe4b",
   "metadata": {},
   "source": [
    "### There is no Missing Values"
   ]
  },
  {
   "cell_type": "code",
   "execution_count": 9,
   "id": "afd43863",
   "metadata": {},
   "outputs": [
    {
     "name": "stdout",
     "output_type": "stream",
     "text": [
      "<class 'pandas.core.frame.DataFrame'>\n",
      "RangeIndex: 89197 entries, 0 to 89196\n",
      "Data columns (total 10 columns):\n",
      " #   Column            Non-Null Count  Dtype  \n",
      "---  ------            --------------  -----  \n",
      " 0   row_id            89197 non-null  int64  \n",
      " 1   user_id           89197 non-null  int64  \n",
      " 2   category_id       89197 non-null  int64  \n",
      " 3   video_id          89197 non-null  int64  \n",
      " 4   age               89197 non-null  int64  \n",
      " 5   gender            89197 non-null  object \n",
      " 6   profession        89197 non-null  object \n",
      " 7   followers         89197 non-null  int64  \n",
      " 8   views             89197 non-null  int64  \n",
      " 9   engagement_score  89197 non-null  float64\n",
      "dtypes: float64(1), int64(7), object(2)\n",
      "memory usage: 6.8+ MB\n"
     ]
    }
   ],
   "source": [
    "## gives information about the data types,columns, null value counts, memory usage etc\n",
    "dftrain.info()"
   ]
  },
  {
   "cell_type": "markdown",
   "id": "fc0fbf6d",
   "metadata": {},
   "source": [
    "### Observation -:\n",
    "* We can see here there are no any missing values in the dataset.\n",
    "* There are total 89197 observations in the dataset.\n",
    "* There are total 9 independent varibales and engagement_score is the dependent variable.\n",
    "* There is two categorical variables i.e. **gender and profession.** And Remaning Numeric variables."
   ]
  },
  {
   "cell_type": "code",
   "execution_count": 10,
   "id": "889f2caf",
   "metadata": {},
   "outputs": [
    {
     "data": {
      "text/html": [
       "<div>\n",
       "<style scoped>\n",
       "    .dataframe tbody tr th:only-of-type {\n",
       "        vertical-align: middle;\n",
       "    }\n",
       "\n",
       "    .dataframe tbody tr th {\n",
       "        vertical-align: top;\n",
       "    }\n",
       "\n",
       "    .dataframe thead th {\n",
       "        text-align: right;\n",
       "    }\n",
       "</style>\n",
       "<table border=\"1\" class=\"dataframe\">\n",
       "  <thead>\n",
       "    <tr style=\"text-align: right;\">\n",
       "      <th></th>\n",
       "      <th>row_id</th>\n",
       "      <th>user_id</th>\n",
       "      <th>category_id</th>\n",
       "      <th>video_id</th>\n",
       "      <th>age</th>\n",
       "      <th>followers</th>\n",
       "      <th>views</th>\n",
       "      <th>engagement_score</th>\n",
       "    </tr>\n",
       "  </thead>\n",
       "  <tbody>\n",
       "    <tr>\n",
       "      <th>count</th>\n",
       "      <td>89197.000000</td>\n",
       "      <td>89197.000000</td>\n",
       "      <td>89197.000000</td>\n",
       "      <td>89197.000000</td>\n",
       "      <td>89197.000000</td>\n",
       "      <td>89197.000000</td>\n",
       "      <td>89197.000000</td>\n",
       "      <td>89197.000000</td>\n",
       "    </tr>\n",
       "    <tr>\n",
       "      <th>mean</th>\n",
       "      <td>44599.000000</td>\n",
       "      <td>13881.909806</td>\n",
       "      <td>18.323733</td>\n",
       "      <td>77.715383</td>\n",
       "      <td>24.848616</td>\n",
       "      <td>252.460172</td>\n",
       "      <td>502.980268</td>\n",
       "      <td>3.487797</td>\n",
       "    </tr>\n",
       "    <tr>\n",
       "      <th>std</th>\n",
       "      <td>25749.100318</td>\n",
       "      <td>8005.582771</td>\n",
       "      <td>11.675154</td>\n",
       "      <td>48.469656</td>\n",
       "      <td>8.955535</td>\n",
       "      <td>46.094468</td>\n",
       "      <td>268.569482</td>\n",
       "      <td>0.863498</td>\n",
       "    </tr>\n",
       "    <tr>\n",
       "      <th>min</th>\n",
       "      <td>1.000000</td>\n",
       "      <td>1.000000</td>\n",
       "      <td>1.000000</td>\n",
       "      <td>1.000000</td>\n",
       "      <td>10.000000</td>\n",
       "      <td>160.000000</td>\n",
       "      <td>30.000000</td>\n",
       "      <td>0.000000</td>\n",
       "    </tr>\n",
       "    <tr>\n",
       "      <th>25%</th>\n",
       "      <td>22300.000000</td>\n",
       "      <td>6945.000000</td>\n",
       "      <td>8.000000</td>\n",
       "      <td>34.000000</td>\n",
       "      <td>18.000000</td>\n",
       "      <td>230.000000</td>\n",
       "      <td>229.000000</td>\n",
       "      <td>2.900000</td>\n",
       "    </tr>\n",
       "    <tr>\n",
       "      <th>50%</th>\n",
       "      <td>44599.000000</td>\n",
       "      <td>13892.000000</td>\n",
       "      <td>16.000000</td>\n",
       "      <td>76.000000</td>\n",
       "      <td>23.000000</td>\n",
       "      <td>240.000000</td>\n",
       "      <td>467.000000</td>\n",
       "      <td>3.710000</td>\n",
       "    </tr>\n",
       "    <tr>\n",
       "      <th>75%</th>\n",
       "      <td>66898.000000</td>\n",
       "      <td>20819.000000</td>\n",
       "      <td>26.000000</td>\n",
       "      <td>120.000000</td>\n",
       "      <td>32.000000</td>\n",
       "      <td>280.000000</td>\n",
       "      <td>714.000000</td>\n",
       "      <td>4.150000</td>\n",
       "    </tr>\n",
       "    <tr>\n",
       "      <th>max</th>\n",
       "      <td>89197.000000</td>\n",
       "      <td>27734.000000</td>\n",
       "      <td>47.000000</td>\n",
       "      <td>175.000000</td>\n",
       "      <td>68.000000</td>\n",
       "      <td>360.000000</td>\n",
       "      <td>1000.000000</td>\n",
       "      <td>5.000000</td>\n",
       "    </tr>\n",
       "  </tbody>\n",
       "</table>\n",
       "</div>"
      ],
      "text/plain": [
       "             row_id       user_id   category_id      video_id           age  \\\n",
       "count  89197.000000  89197.000000  89197.000000  89197.000000  89197.000000   \n",
       "mean   44599.000000  13881.909806     18.323733     77.715383     24.848616   \n",
       "std    25749.100318   8005.582771     11.675154     48.469656      8.955535   \n",
       "min        1.000000      1.000000      1.000000      1.000000     10.000000   \n",
       "25%    22300.000000   6945.000000      8.000000     34.000000     18.000000   \n",
       "50%    44599.000000  13892.000000     16.000000     76.000000     23.000000   \n",
       "75%    66898.000000  20819.000000     26.000000    120.000000     32.000000   \n",
       "max    89197.000000  27734.000000     47.000000    175.000000     68.000000   \n",
       "\n",
       "          followers         views  engagement_score  \n",
       "count  89197.000000  89197.000000      89197.000000  \n",
       "mean     252.460172    502.980268          3.487797  \n",
       "std       46.094468    268.569482          0.863498  \n",
       "min      160.000000     30.000000          0.000000  \n",
       "25%      230.000000    229.000000          2.900000  \n",
       "50%      240.000000    467.000000          3.710000  \n",
       "75%      280.000000    714.000000          4.150000  \n",
       "max      360.000000   1000.000000          5.000000  "
      ]
     },
     "execution_count": 10,
     "metadata": {},
     "output_type": "execute_result"
    }
   ],
   "source": [
    "''' The describe() method is used for calculating some statistical data\n",
    "     like percentile, mean and std of the numerical values of the Series or DataFrame. \n",
    "     '''\n",
    "dftrain.describe()"
   ]
  },
  {
   "cell_type": "markdown",
   "id": "023f307e",
   "metadata": {},
   "source": [
    "### Conclusion :-\n",
    "* There is not very difference in Mean and Median [50 th percentile ] .\n",
    "* All Features Count is same i.e. 89197 so in our dataset there is no missing Values.\n"
   ]
  },
  {
   "cell_type": "code",
   "execution_count": 11,
   "id": "3dfd4aee",
   "metadata": {},
   "outputs": [
    {
     "data": {
      "text/plain": [
       "Index(['row_id', 'user_id', 'category_id', 'video_id', 'age', 'followers',\n",
       "       'views', 'engagement_score'],\n",
       "      dtype='object')"
      ]
     },
     "execution_count": 11,
     "metadata": {},
     "output_type": "execute_result"
    }
   ],
   "source": [
    "#quick way to separate numeric columns\n",
    "dftrain.describe().columns"
   ]
  },
  {
   "cell_type": "markdown",
   "id": "87159497",
   "metadata": {},
   "source": [
    "## Data Set Description.\n",
    "### Problem Statement\n",
    "ABC is an online content sharing platform that enables users to create, upload and share the content in the form of videos. It includes videos from different genres like entertainment, education, sports, technology and so on. The maximum duration of video is 10 minutes.\n",
    "\n",
    "Users can like, comment and share the videos on the platform. \n",
    "\n",
    "Based on the user’s interaction with the videos, engagement score is assigned to the video with respect to each user. Engagement score defines how engaging the content of the video is. \n",
    "\n",
    "Understanding the engagement score of the video improves the user’s interaction with the platform. It defines the type of content that is appealing to the user and engages the larger audience.\n",
    "#### Objective\n",
    "The main objective of the problem is to develop the machine learning approach to predict the engagement score of the video on the user level.\n",
    "\n",
    "Variable\t         Description\n",
    "row_id \tUnique identifier of the row\n",
    "user_id\tUnique identifier of the user\n",
    "category_id\tCategory of the video\n",
    "video_id\tUnique identifier of the video\n",
    "age\tAge of the user\n",
    "gender\tGender of the user (Male and Female)\n",
    "profession\tProfession of the user (Student, Working Professional, Other)\n",
    "followers\tNo. of users following a particular category\n",
    "views\tTotal views of the videos present in the particular category\n",
    "engagement_score\tEngagement score of the video for a user\n",
    "\n",
    "\n",
    "**Variable\t              Description**\n",
    "* **row_id :-**\t        Unique identifier of the row\n",
    "* **user_id :-**\t        Unique identifier of the user\n",
    "* **category_id :-**\t    Category of the video\n",
    "* **video_id :-**        Unique identifier of the video\n",
    "* **age\t   :-**           Age of the user\n",
    "* **gender\t:-**        Gender of the user (Male and Female)\n",
    "* **profession :-**\t    Profession of the user (Student, Working Professional, Other)\n",
    "* **followers\t  :-**      No. of users following a particular category\n",
    "* **views\t       :-**     Total views of the videos present in the particular category\n",
    "* **engagement_score :-**\tEngagement score of the video for a user\n",
    "\n"
   ]
  },
  {
   "cell_type": "markdown",
   "id": "c46605ea",
   "metadata": {},
   "source": [
    "## Data_Preprocessing.\n",
    "## EDA\n",
    "### Lets us plot Data Distribution of every features."
   ]
  },
  {
   "cell_type": "code",
   "execution_count": 12,
   "id": "a0fa2426",
   "metadata": {},
   "outputs": [
    {
     "data": {
      "image/png": "[encoded data removed]",
      "text/plain": [
       "<Figure size 720x720 with 9 Axes>"
      ]
     },
     "metadata": {
      "needs_background": "light"
     },
     "output_type": "display_data"
    }
   ],
   "source": [
    "p =dftrain.hist(figsize = (10,10))"
   ]
  },
  {
   "cell_type": "markdown",
   "id": "1fd28ed4",
   "metadata": {},
   "source": [
    "### Observation :-\n",
    "* The age features says that the most of the users is lies in the age of  10 to 30 years . \n",
    "* The age feature is positive Skewed.\n",
    "* In the followers feature the No.of users following in 180 to 300 category. and It's Quite Normal distribution or symmetrical Distribution.\n",
    "* In the Views Features the total views of a particular video category is 250 to 500 and 625 to 875. Quite Normal Distribution. \n",
    "* And our Target variable i.e. engagement_score for a particular user is lies in 2 to 4.5. And its Negative Skewed or Left Skewed."
   ]
  },
  {
   "cell_type": "markdown",
   "id": "2731b4a8",
   "metadata": {},
   "source": [
    "### Data Preprocessing for Model\n",
    "1) Drop null values from Embarked.\n",
    "\n",
    "2) Include only relevant variables (Since we have limited data, I wanted to exclude things like row_id and user_id so that we could have a reasonable number of features for our models to deal with)\n",
    "  \n",
    " **Variables:    'row_id', 'user_id', 'category_id', 'video_id', 'age', 'followers',\n",
    "       'views', 'engagement_score'**\n",
    "\n",
    "3) Do categorical transforms on all data. Usually we would use a transformer, but with this approach we can ensure that our traning and test data have the same colums. We also may be able to infer something about the shape of the test data through this method. I will stress, this is generally not recommend outside of a competition (use onehot encoder).\n",
    "\n",
    "4) Impute data with mean for fare and age (Should also experiment with median)\n",
    "\n",
    "5) Normalized fare using logarithm to give more semblance of a normal distribution\n",
    "\n",
    "6) Scaled data 0-1 with standard scaler"
   ]
  },
  {
   "cell_type": "code",
   "execution_count": 13,
   "id": "8d4164b7",
   "metadata": {},
   "outputs": [
    {
     "data": {
      "text/plain": [
       "<AxesSubplot:>"
      ]
     },
     "execution_count": 13,
     "metadata": {},
     "output_type": "execute_result"
    },
    {
     "data": {
      "image/png": "[encoded data removed]",
      "text/plain": [
       "<Figure size 1080x1080 with 2 Axes>"
      ]
     },
     "metadata": {
      "needs_background": "light"
     },
     "output_type": "display_data"
    }
   ],
   "source": [
    "# checking the Correlation of our variables  \n",
    "\n",
    "corr = dftrain.corr() \n",
    "plt.subplots(figsize=(15,15))\n",
    "sns.heatmap(corr, annot=True) \n"
   ]
  },
  {
   "cell_type": "markdown",
   "id": "4e9c4883",
   "metadata": {},
   "source": [
    "### Observations :-\n",
    "* Age feature is negative correlated to our target feature i.e Engagement score.\n",
    "* Followers and Views are positive Correlated.\n",
    "* Age and Views are Quite Positive Correlated.\n",
    "* Engagement_score and Category_id , Views are Negativaly Correlated."
   ]
  },
  {
   "cell_type": "code",
   "execution_count": 14,
   "id": "4c2b8d10",
   "metadata": {},
   "outputs": [
    {
     "data": {
      "text/html": [
       "<style type=\"text/css\">\n",
       "#T_88c97_row0_col0, #T_88c97_row1_col1, #T_88c97_row2_col2, #T_88c97_row3_col3, #T_88c97_row4_col4, #T_88c97_row5_col5, #T_88c97_row6_col6, #T_88c97_row7_col7 {\n",
       "  background-color: #b40426;\n",
       "  color: #f1f1f1;\n",
       "}\n",
       "#T_88c97_row0_col1, #T_88c97_row0_col5, #T_88c97_row1_col0, #T_88c97_row1_col5, #T_88c97_row4_col0, #T_88c97_row4_col7, #T_88c97_row6_col3, #T_88c97_row7_col0, #T_88c97_row7_col2, #T_88c97_row7_col3, #T_88c97_row7_col4, #T_88c97_row7_col5, #T_88c97_row7_col6 {\n",
       "  background-color: #3b4cc0;\n",
       "  color: #f1f1f1;\n",
       "}\n",
       "#T_88c97_row0_col2, #T_88c97_row1_col2, #T_88c97_row4_col6 {\n",
       "  background-color: #5572df;\n",
       "  color: #f1f1f1;\n",
       "}\n",
       "#T_88c97_row0_col3 {\n",
       "  background-color: #4358cb;\n",
       "  color: #f1f1f1;\n",
       "}\n",
       "#T_88c97_row0_col4, #T_88c97_row0_col7, #T_88c97_row1_col7, #T_88c97_row2_col4, #T_88c97_row3_col4 {\n",
       "  background-color: #7699f6;\n",
       "  color: #f1f1f1;\n",
       "}\n",
       "#T_88c97_row0_col6, #T_88c97_row1_col6 {\n",
       "  background-color: #516ddb;\n",
       "  color: #f1f1f1;\n",
       "}\n",
       "#T_88c97_row1_col3 {\n",
       "  background-color: #445acc;\n",
       "  color: #f1f1f1;\n",
       "}\n",
       "#T_88c97_row1_col4, #T_88c97_row5_col7 {\n",
       "  background-color: #779af7;\n",
       "  color: #f1f1f1;\n",
       "}\n",
       "#T_88c97_row2_col0, #T_88c97_row2_col1 {\n",
       "  background-color: #3d50c3;\n",
       "  color: #f1f1f1;\n",
       "}\n",
       "#T_88c97_row2_col3 {\n",
       "  background-color: #edd2c3;\n",
       "  color: #000000;\n",
       "}\n",
       "#T_88c97_row2_col5 {\n",
       "  background-color: #4b64d5;\n",
       "  color: #f1f1f1;\n",
       "}\n",
       "#T_88c97_row2_col6 {\n",
       "  background-color: #6a8bef;\n",
       "  color: #f1f1f1;\n",
       "}\n",
       "#T_88c97_row2_col7 {\n",
       "  background-color: #5d7ce6;\n",
       "  color: #f1f1f1;\n",
       "}\n",
       "#T_88c97_row3_col0, #T_88c97_row4_col1, #T_88c97_row4_col5, #T_88c97_row5_col0, #T_88c97_row5_col1, #T_88c97_row6_col0, #T_88c97_row6_col1, #T_88c97_row7_col1 {\n",
       "  background-color: #3c4ec2;\n",
       "  color: #f1f1f1;\n",
       "}\n",
       "#T_88c97_row3_col1 {\n",
       "  background-color: #3e51c5;\n",
       "  color: #f1f1f1;\n",
       "}\n",
       "#T_88c97_row3_col2 {\n",
       "  background-color: #f1ccb8;\n",
       "  color: #000000;\n",
       "}\n",
       "#T_88c97_row3_col5 {\n",
       "  background-color: #5977e3;\n",
       "  color: #f1f1f1;\n",
       "}\n",
       "#T_88c97_row3_col6 {\n",
       "  background-color: #4a63d3;\n",
       "  color: #f1f1f1;\n",
       "}\n",
       "#T_88c97_row3_col7 {\n",
       "  background-color: #6e90f2;\n",
       "  color: #f1f1f1;\n",
       "}\n",
       "#T_88c97_row4_col2 {\n",
       "  background-color: #5470de;\n",
       "  color: #f1f1f1;\n",
       "}\n",
       "#T_88c97_row4_col3 {\n",
       "  background-color: #4257c9;\n",
       "  color: #f1f1f1;\n",
       "}\n",
       "#T_88c97_row5_col2 {\n",
       "  background-color: #6687ed;\n",
       "  color: #f1f1f1;\n",
       "}\n",
       "#T_88c97_row5_col3 {\n",
       "  background-color: #6282ea;\n",
       "  color: #f1f1f1;\n",
       "}\n",
       "#T_88c97_row5_col4 {\n",
       "  background-color: #799cf8;\n",
       "  color: #f1f1f1;\n",
       "}\n",
       "#T_88c97_row5_col6 {\n",
       "  background-color: #c4d5f3;\n",
       "  color: #000000;\n",
       "}\n",
       "#T_88c97_row6_col2 {\n",
       "  background-color: #6c8ff1;\n",
       "  color: #f1f1f1;\n",
       "}\n",
       "#T_88c97_row6_col4 {\n",
       "  background-color: #7a9df8;\n",
       "  color: #f1f1f1;\n",
       "}\n",
       "#T_88c97_row6_col5 {\n",
       "  background-color: #b3cdfb;\n",
       "  color: #000000;\n",
       "}\n",
       "#T_88c97_row6_col7 {\n",
       "  background-color: #5f7fe8;\n",
       "  color: #f1f1f1;\n",
       "}\n",
       "</style>\n",
       "<table id=\"T_88c97_\">\n",
       "  <thead>\n",
       "    <tr>\n",
       "      <th class=\"blank level0\" >&nbsp;</th>\n",
       "      <th class=\"col_heading level0 col0\" >row_id</th>\n",
       "      <th class=\"col_heading level0 col1\" >user_id</th>\n",
       "      <th class=\"col_heading level0 col2\" >category_id</th>\n",
       "      <th class=\"col_heading level0 col3\" >video_id</th>\n",
       "      <th class=\"col_heading level0 col4\" >age</th>\n",
       "      <th class=\"col_heading level0 col5\" >followers</th>\n",
       "      <th class=\"col_heading level0 col6\" >views</th>\n",
       "      <th class=\"col_heading level0 col7\" >engagement_score</th>\n",
       "    </tr>\n",
       "  </thead>\n",
       "  <tbody>\n",
       "    <tr>\n",
       "      <th id=\"T_88c97_level0_row0\" class=\"row_heading level0 row0\" >row_id</th>\n",
       "      <td id=\"T_88c97_row0_col0\" class=\"data row0 col0\" >1.000000</td>\n",
       "      <td id=\"T_88c97_row0_col1\" class=\"data row0 col1\" >-0.006953</td>\n",
       "      <td id=\"T_88c97_row0_col2\" class=\"data row0 col2\" >0.002833</td>\n",
       "      <td id=\"T_88c97_row0_col3\" class=\"data row0 col3\" >0.000891</td>\n",
       "      <td id=\"T_88c97_row0_col4\" class=\"data row0 col4\" >-0.005199</td>\n",
       "      <td id=\"T_88c97_row0_col5\" class=\"data row0 col5\" >-0.001374</td>\n",
       "      <td id=\"T_88c97_row0_col6\" class=\"data row0 col6\" >-0.001815</td>\n",
       "      <td id=\"T_88c97_row0_col7\" class=\"data row0 col7\" >-0.003368</td>\n",
       "    </tr>\n",
       "    <tr>\n",
       "      <th id=\"T_88c97_level0_row1\" class=\"row_heading level0 row1\" >user_id</th>\n",
       "      <td id=\"T_88c97_row1_col0\" class=\"data row1 col0\" >-0.006953</td>\n",
       "      <td id=\"T_88c97_row1_col1\" class=\"data row1 col1\" >1.000000</td>\n",
       "      <td id=\"T_88c97_row1_col2\" class=\"data row1 col2\" >0.002139</td>\n",
       "      <td id=\"T_88c97_row1_col3\" class=\"data row1 col3\" >0.005232</td>\n",
       "      <td id=\"T_88c97_row1_col4\" class=\"data row1 col4\" >-0.000036</td>\n",
       "      <td id=\"T_88c97_row1_col5\" class=\"data row1 col5\" >-0.002026</td>\n",
       "      <td id=\"T_88c97_row1_col6\" class=\"data row1 col6\" >-0.001843</td>\n",
       "      <td id=\"T_88c97_row1_col7\" class=\"data row1 col7\" >-0.002900</td>\n",
       "    </tr>\n",
       "    <tr>\n",
       "      <th id=\"T_88c97_level0_row2\" class=\"row_heading level0 row2\" >category_id</th>\n",
       "      <td id=\"T_88c97_row2_col0\" class=\"data row2 col0\" >0.002833</td>\n",
       "      <td id=\"T_88c97_row2_col1\" class=\"data row2 col1\" >0.002139</td>\n",
       "      <td id=\"T_88c97_row2_col2\" class=\"data row2 col2\" >1.000000</td>\n",
       "      <td id=\"T_88c97_row2_col3\" class=\"data row2 col3\" >0.556550</td>\n",
       "      <td id=\"T_88c97_row2_col4\" class=\"data row2 col4\" >-0.003152</td>\n",
       "      <td id=\"T_88c97_row2_col5\" class=\"data row2 col5\" >0.056432</td>\n",
       "      <td id=\"T_88c97_row2_col6\" class=\"data row2 col6\" >0.079321</td>\n",
       "      <td id=\"T_88c97_row2_col7\" class=\"data row2 col7\" >-0.094288</td>\n",
       "    </tr>\n",
       "    <tr>\n",
       "      <th id=\"T_88c97_level0_row3\" class=\"row_heading level0 row3\" >video_id</th>\n",
       "      <td id=\"T_88c97_row3_col0\" class=\"data row3 col0\" >0.000891</td>\n",
       "      <td id=\"T_88c97_row3_col1\" class=\"data row3 col1\" >0.005232</td>\n",
       "      <td id=\"T_88c97_row3_col2\" class=\"data row3 col2\" >0.556550</td>\n",
       "      <td id=\"T_88c97_row3_col3\" class=\"data row3 col3\" >1.000000</td>\n",
       "      <td id=\"T_88c97_row3_col4\" class=\"data row3 col4\" >-0.005615</td>\n",
       "      <td id=\"T_88c97_row3_col5\" class=\"data row3 col5\" >0.098778</td>\n",
       "      <td id=\"T_88c97_row3_col6\" class=\"data row3 col6\" >-0.029448</td>\n",
       "      <td id=\"T_88c97_row3_col7\" class=\"data row3 col7\" >-0.030552</td>\n",
       "    </tr>\n",
       "    <tr>\n",
       "      <th id=\"T_88c97_level0_row4\" class=\"row_heading level0 row4\" >age</th>\n",
       "      <td id=\"T_88c97_row4_col0\" class=\"data row4 col0\" >-0.005199</td>\n",
       "      <td id=\"T_88c97_row4_col1\" class=\"data row4 col1\" >-0.000036</td>\n",
       "      <td id=\"T_88c97_row4_col2\" class=\"data row4 col2\" >-0.003152</td>\n",
       "      <td id=\"T_88c97_row4_col3\" class=\"data row4 col3\" >-0.005615</td>\n",
       "      <td id=\"T_88c97_row4_col4\" class=\"data row4 col4\" >1.000000</td>\n",
       "      <td id=\"T_88c97_row4_col5\" class=\"data row4 col5\" >0.004623</td>\n",
       "      <td id=\"T_88c97_row4_col6\" class=\"data row4 col6\" >0.011042</td>\n",
       "      <td id=\"T_88c97_row4_col7\" class=\"data row4 col7\" >-0.232626</td>\n",
       "    </tr>\n",
       "    <tr>\n",
       "      <th id=\"T_88c97_level0_row5\" class=\"row_heading level0 row5\" >followers</th>\n",
       "      <td id=\"T_88c97_row5_col0\" class=\"data row5 col0\" >-0.001374</td>\n",
       "      <td id=\"T_88c97_row5_col1\" class=\"data row5 col1\" >-0.002026</td>\n",
       "      <td id=\"T_88c97_row5_col2\" class=\"data row5 col2\" >0.056432</td>\n",
       "      <td id=\"T_88c97_row5_col3\" class=\"data row5 col3\" >0.098778</td>\n",
       "      <td id=\"T_88c97_row5_col4\" class=\"data row5 col4\" >0.004623</td>\n",
       "      <td id=\"T_88c97_row5_col5\" class=\"data row5 col5\" >1.000000</td>\n",
       "      <td id=\"T_88c97_row5_col6\" class=\"data row5 col6\" >0.360808</td>\n",
       "      <td id=\"T_88c97_row5_col7\" class=\"data row5 col7\" >0.000855</td>\n",
       "    </tr>\n",
       "    <tr>\n",
       "      <th id=\"T_88c97_level0_row6\" class=\"row_heading level0 row6\" >views</th>\n",
       "      <td id=\"T_88c97_row6_col0\" class=\"data row6 col0\" >-0.001815</td>\n",
       "      <td id=\"T_88c97_row6_col1\" class=\"data row6 col1\" >-0.001843</td>\n",
       "      <td id=\"T_88c97_row6_col2\" class=\"data row6 col2\" >0.079321</td>\n",
       "      <td id=\"T_88c97_row6_col3\" class=\"data row6 col3\" >-0.029448</td>\n",
       "      <td id=\"T_88c97_row6_col4\" class=\"data row6 col4\" >0.011042</td>\n",
       "      <td id=\"T_88c97_row6_col5\" class=\"data row6 col5\" >0.360808</td>\n",
       "      <td id=\"T_88c97_row6_col6\" class=\"data row6 col6\" >1.000000</td>\n",
       "      <td id=\"T_88c97_row6_col7\" class=\"data row6 col7\" >-0.084679</td>\n",
       "    </tr>\n",
       "    <tr>\n",
       "      <th id=\"T_88c97_level0_row7\" class=\"row_heading level0 row7\" >engagement_score</th>\n",
       "      <td id=\"T_88c97_row7_col0\" class=\"data row7 col0\" >-0.003368</td>\n",
       "      <td id=\"T_88c97_row7_col1\" class=\"data row7 col1\" >-0.002900</td>\n",
       "      <td id=\"T_88c97_row7_col2\" class=\"data row7 col2\" >-0.094288</td>\n",
       "      <td id=\"T_88c97_row7_col3\" class=\"data row7 col3\" >-0.030552</td>\n",
       "      <td id=\"T_88c97_row7_col4\" class=\"data row7 col4\" >-0.232626</td>\n",
       "      <td id=\"T_88c97_row7_col5\" class=\"data row7 col5\" >0.000855</td>\n",
       "      <td id=\"T_88c97_row7_col6\" class=\"data row7 col6\" >-0.084679</td>\n",
       "      <td id=\"T_88c97_row7_col7\" class=\"data row7 col7\" >1.000000</td>\n",
       "    </tr>\n",
       "  </tbody>\n",
       "</table>\n"
      ],
      "text/plain": [
       "<pandas.io.formats.style.Styler at 0x28e72049520>"
      ]
     },
     "execution_count": 14,
     "metadata": {},
     "output_type": "execute_result"
    }
   ],
   "source": [
    "# you can do the same as here \n",
    "dftrain.corr().style.background_gradient(cmap='coolwarm')"
   ]
  },
  {
   "cell_type": "code",
   "execution_count": 15,
   "id": "dd372481",
   "metadata": {},
   "outputs": [],
   "source": [
    "# look at numeric and categorical values separately \n",
    "df_num = dftrain[['row_id', 'user_id', 'category_id', 'video_id', 'age', 'followers',\n",
    "       'views', 'engagement_score']]\n",
    "df_cat = dftrain[['profession','gender']]"
   ]
  },
  {
   "cell_type": "code",
   "execution_count": 16,
   "id": "783a37fa",
   "metadata": {},
   "outputs": [
    {
     "name": "stderr",
     "output_type": "stream",
     "text": [
      "C:\\Users\\sanket\\anaconda3\\lib\\site-packages\\seaborn\\_decorators.py:36: FutureWarning: Pass the following variables as keyword args: x, y. From version 0.12, the only valid positional argument will be `data`, and passing other arguments without an explicit keyword will result in an error or misinterpretation.\n",
      "  warnings.warn(\n"
     ]
    },
    {
     "data": {
      "image/png": "[encoded data removed]",
      "text/plain": [
       "<Figure size 432x288 with 1 Axes>"
      ]
     },
     "metadata": {
      "needs_background": "light"
     },
     "output_type": "display_data"
    },
    {
     "name": "stderr",
     "output_type": "stream",
     "text": [
      "C:\\Users\\sanket\\anaconda3\\lib\\site-packages\\seaborn\\_decorators.py:36: FutureWarning: Pass the following variables as keyword args: x, y. From version 0.12, the only valid positional argument will be `data`, and passing other arguments without an explicit keyword will result in an error or misinterpretation.\n",
      "  warnings.warn(\n"
     ]
    },
    {
     "data": {
      "image/png": "[encoded data removed]",
      "text/plain": [
       "<Figure size 432x288 with 1 Axes>"
      ]
     },
     "metadata": {
      "needs_background": "light"
     },
     "output_type": "display_data"
    }
   ],
   "source": [
    "for i in df_cat.columns:\n",
    "    sns.barplot(df_cat[i].value_counts().index,df_cat[i].value_counts()).set_title(i)\n",
    "    plt.show()\\\n",
    "    "
   ]
  },
  {
   "cell_type": "code",
   "execution_count": 17,
   "id": "1b6dbb1a",
   "metadata": {},
   "outputs": [
    {
     "data": {
      "text/plain": [
       "Male      52397\n",
       "Female    36800\n",
       "Name: gender, dtype: int64"
      ]
     },
     "execution_count": 17,
     "metadata": {},
     "output_type": "execute_result"
    }
   ],
   "source": [
    "## Let See Count of Categorical variable Unique Values.\n",
    "dftrain['gender'].value_counts()"
   ]
  },
  {
   "cell_type": "code",
   "execution_count": 18,
   "id": "fe0b95c3",
   "metadata": {},
   "outputs": [
    {
     "data": {
      "text/plain": [
       "Student                 44638\n",
       "Other                   26840\n",
       "Working Professional    17719\n",
       "Name: profession, dtype: int64"
      ]
     },
     "execution_count": 18,
     "metadata": {},
     "output_type": "execute_result"
    }
   ],
   "source": [
    "dftrain['profession'].value_counts()"
   ]
  },
  {
   "cell_type": "markdown",
   "id": "506f4ad5",
   "metadata": {},
   "source": [
    "## Observation:-\n",
    "* In Gender the Male Users is more than Female Users.\n",
    "* In Profession Feature Most of the Student Users are Used."
   ]
  },
  {
   "cell_type": "code",
   "execution_count": 19,
   "id": "0541c1bc",
   "metadata": {},
   "outputs": [
    {
     "data": {
      "text/html": [
       "<div>\n",
       "<style scoped>\n",
       "    .dataframe tbody tr th:only-of-type {\n",
       "        vertical-align: middle;\n",
       "    }\n",
       "\n",
       "    .dataframe tbody tr th {\n",
       "        vertical-align: top;\n",
       "    }\n",
       "\n",
       "    .dataframe thead tr th {\n",
       "        text-align: left;\n",
       "    }\n",
       "\n",
       "    .dataframe thead tr:last-of-type th {\n",
       "        text-align: right;\n",
       "    }\n",
       "</style>\n",
       "<table border=\"1\" class=\"dataframe\">\n",
       "  <thead>\n",
       "    <tr>\n",
       "      <th></th>\n",
       "      <th colspan=\"3\" halign=\"left\">age</th>\n",
       "      <th colspan=\"3\" halign=\"left\">category_id</th>\n",
       "      <th colspan=\"3\" halign=\"left\">engagement_score</th>\n",
       "      <th>followers</th>\n",
       "      <th>...</th>\n",
       "      <th>row_id</th>\n",
       "      <th colspan=\"3\" halign=\"left\">user_id</th>\n",
       "      <th colspan=\"3\" halign=\"left\">video_id</th>\n",
       "      <th colspan=\"3\" halign=\"left\">views</th>\n",
       "    </tr>\n",
       "    <tr>\n",
       "      <th>profession</th>\n",
       "      <th>Other</th>\n",
       "      <th>Student</th>\n",
       "      <th>Working Professional</th>\n",
       "      <th>Other</th>\n",
       "      <th>Student</th>\n",
       "      <th>Working Professional</th>\n",
       "      <th>Other</th>\n",
       "      <th>Student</th>\n",
       "      <th>Working Professional</th>\n",
       "      <th>Other</th>\n",
       "      <th>...</th>\n",
       "      <th>Working Professional</th>\n",
       "      <th>Other</th>\n",
       "      <th>Student</th>\n",
       "      <th>Working Professional</th>\n",
       "      <th>Other</th>\n",
       "      <th>Student</th>\n",
       "      <th>Working Professional</th>\n",
       "      <th>Other</th>\n",
       "      <th>Student</th>\n",
       "      <th>Working Professional</th>\n",
       "    </tr>\n",
       "    <tr>\n",
       "      <th>gender</th>\n",
       "      <th></th>\n",
       "      <th></th>\n",
       "      <th></th>\n",
       "      <th></th>\n",
       "      <th></th>\n",
       "      <th></th>\n",
       "      <th></th>\n",
       "      <th></th>\n",
       "      <th></th>\n",
       "      <th></th>\n",
       "      <th></th>\n",
       "      <th></th>\n",
       "      <th></th>\n",
       "      <th></th>\n",
       "      <th></th>\n",
       "      <th></th>\n",
       "      <th></th>\n",
       "      <th></th>\n",
       "      <th></th>\n",
       "      <th></th>\n",
       "      <th></th>\n",
       "    </tr>\n",
       "  </thead>\n",
       "  <tbody>\n",
       "    <tr>\n",
       "      <th>Female</th>\n",
       "      <td>11199</td>\n",
       "      <td>18307</td>\n",
       "      <td>7294</td>\n",
       "      <td>11199</td>\n",
       "      <td>18307</td>\n",
       "      <td>7294</td>\n",
       "      <td>11199</td>\n",
       "      <td>18307</td>\n",
       "      <td>7294</td>\n",
       "      <td>11199</td>\n",
       "      <td>...</td>\n",
       "      <td>7294</td>\n",
       "      <td>11199</td>\n",
       "      <td>18307</td>\n",
       "      <td>7294</td>\n",
       "      <td>11199</td>\n",
       "      <td>18307</td>\n",
       "      <td>7294</td>\n",
       "      <td>11199</td>\n",
       "      <td>18307</td>\n",
       "      <td>7294</td>\n",
       "    </tr>\n",
       "    <tr>\n",
       "      <th>Male</th>\n",
       "      <td>15641</td>\n",
       "      <td>26331</td>\n",
       "      <td>10425</td>\n",
       "      <td>15641</td>\n",
       "      <td>26331</td>\n",
       "      <td>10425</td>\n",
       "      <td>15641</td>\n",
       "      <td>26331</td>\n",
       "      <td>10425</td>\n",
       "      <td>15641</td>\n",
       "      <td>...</td>\n",
       "      <td>10425</td>\n",
       "      <td>15641</td>\n",
       "      <td>26331</td>\n",
       "      <td>10425</td>\n",
       "      <td>15641</td>\n",
       "      <td>26331</td>\n",
       "      <td>10425</td>\n",
       "      <td>15641</td>\n",
       "      <td>26331</td>\n",
       "      <td>10425</td>\n",
       "    </tr>\n",
       "  </tbody>\n",
       "</table>\n",
       "<p>2 rows × 24 columns</p>\n",
       "</div>"
      ],
      "text/plain": [
       "              age                              category_id          \\\n",
       "profession  Other Student Working Professional       Other Student   \n",
       "gender                                                               \n",
       "Female      11199   18307                 7294       11199   18307   \n",
       "Male        15641   26331                10425       15641   26331   \n",
       "\n",
       "                                engagement_score                               \\\n",
       "profession Working Professional            Other Student Working Professional   \n",
       "gender                                                                          \n",
       "Female                     7294            11199   18307                 7294   \n",
       "Male                      10425            15641   26331                10425   \n",
       "\n",
       "           followers  ...               row_id user_id          \\\n",
       "profession     Other  ... Working Professional   Other Student   \n",
       "gender                ...                                        \n",
       "Female         11199  ...                 7294   11199   18307   \n",
       "Male           15641  ...                10425   15641   26331   \n",
       "\n",
       "                                video_id                               views  \\\n",
       "profession Working Professional    Other Student Working Professional  Other   \n",
       "gender                                                                         \n",
       "Female                     7294    11199   18307                 7294  11199   \n",
       "Male                      10425    15641   26331                10425  15641   \n",
       "\n",
       "                                         \n",
       "profession Student Working Professional  \n",
       "gender                                   \n",
       "Female       18307                 7294  \n",
       "Male         26331                10425  \n",
       "\n",
       "[2 rows x 24 columns]"
      ]
     },
     "execution_count": 19,
     "metadata": {},
     "output_type": "execute_result"
    }
   ],
   "source": [
    "pd.pivot_table(dftrain, index = 'gender', columns = 'profession', aggfunc ='count')"
   ]
  },
  {
   "cell_type": "markdown",
   "id": "d313183e",
   "metadata": {},
   "source": [
    "# Feature engineering\n",
    "## Converting catagorical data into numeric data\n",
    "* For Gender and Profession feature we are going to use one hot encoder."
   ]
  },
  {
   "cell_type": "markdown",
   "id": "9398d70d",
   "metadata": {},
   "source": [
    "### One hot Encoding\n",
    "* A one hot encoding is a representation of categorical variables as binary vectors.\n",
    "* One-Hot Encoding is the process of creating dummy variables.\n",
    "* That’s primarily the reason we need to convert categorical columns to numerical columns so that a machine learning algorithm understands it. This process is called categorical encoding."
   ]
  },
  {
   "cell_type": "code",
   "execution_count": 20,
   "id": "8ab7e3a7",
   "metadata": {},
   "outputs": [],
   "source": [
    "categorical_cols = ['profession','gender']"
   ]
  },
  {
   "cell_type": "code",
   "execution_count": 21,
   "id": "aa08db01",
   "metadata": {},
   "outputs": [],
   "source": [
    "dftrain = pd.get_dummies(dftrain, columns = categorical_cols)"
   ]
  },
  {
   "cell_type": "code",
   "execution_count": 22,
   "id": "ca52adc7",
   "metadata": {},
   "outputs": [
    {
     "data": {
      "text/html": [
       "<div>\n",
       "<style scoped>\n",
       "    .dataframe tbody tr th:only-of-type {\n",
       "        vertical-align: middle;\n",
       "    }\n",
       "\n",
       "    .dataframe tbody tr th {\n",
       "        vertical-align: top;\n",
       "    }\n",
       "\n",
       "    .dataframe thead th {\n",
       "        text-align: right;\n",
       "    }\n",
       "</style>\n",
       "<table border=\"1\" class=\"dataframe\">\n",
       "  <thead>\n",
       "    <tr style=\"text-align: right;\">\n",
       "      <th></th>\n",
       "      <th>row_id</th>\n",
       "      <th>user_id</th>\n",
       "      <th>category_id</th>\n",
       "      <th>video_id</th>\n",
       "      <th>age</th>\n",
       "      <th>followers</th>\n",
       "      <th>views</th>\n",
       "      <th>engagement_score</th>\n",
       "      <th>profession_Other</th>\n",
       "      <th>profession_Student</th>\n",
       "      <th>profession_Working Professional</th>\n",
       "      <th>gender_Female</th>\n",
       "      <th>gender_Male</th>\n",
       "    </tr>\n",
       "  </thead>\n",
       "  <tbody>\n",
       "    <tr>\n",
       "      <th>0</th>\n",
       "      <td>1</td>\n",
       "      <td>19990</td>\n",
       "      <td>37</td>\n",
       "      <td>128</td>\n",
       "      <td>24</td>\n",
       "      <td>180</td>\n",
       "      <td>1000</td>\n",
       "      <td>4.33</td>\n",
       "      <td>0</td>\n",
       "      <td>1</td>\n",
       "      <td>0</td>\n",
       "      <td>0</td>\n",
       "      <td>1</td>\n",
       "    </tr>\n",
       "    <tr>\n",
       "      <th>1</th>\n",
       "      <td>2</td>\n",
       "      <td>5304</td>\n",
       "      <td>32</td>\n",
       "      <td>132</td>\n",
       "      <td>14</td>\n",
       "      <td>330</td>\n",
       "      <td>714</td>\n",
       "      <td>1.79</td>\n",
       "      <td>0</td>\n",
       "      <td>1</td>\n",
       "      <td>0</td>\n",
       "      <td>1</td>\n",
       "      <td>0</td>\n",
       "    </tr>\n",
       "    <tr>\n",
       "      <th>2</th>\n",
       "      <td>3</td>\n",
       "      <td>1840</td>\n",
       "      <td>12</td>\n",
       "      <td>24</td>\n",
       "      <td>19</td>\n",
       "      <td>180</td>\n",
       "      <td>138</td>\n",
       "      <td>4.35</td>\n",
       "      <td>0</td>\n",
       "      <td>1</td>\n",
       "      <td>0</td>\n",
       "      <td>0</td>\n",
       "      <td>1</td>\n",
       "    </tr>\n",
       "    <tr>\n",
       "      <th>3</th>\n",
       "      <td>4</td>\n",
       "      <td>12597</td>\n",
       "      <td>23</td>\n",
       "      <td>112</td>\n",
       "      <td>19</td>\n",
       "      <td>220</td>\n",
       "      <td>613</td>\n",
       "      <td>3.77</td>\n",
       "      <td>0</td>\n",
       "      <td>1</td>\n",
       "      <td>0</td>\n",
       "      <td>0</td>\n",
       "      <td>1</td>\n",
       "    </tr>\n",
       "    <tr>\n",
       "      <th>4</th>\n",
       "      <td>5</td>\n",
       "      <td>13626</td>\n",
       "      <td>23</td>\n",
       "      <td>112</td>\n",
       "      <td>27</td>\n",
       "      <td>220</td>\n",
       "      <td>613</td>\n",
       "      <td>3.13</td>\n",
       "      <td>0</td>\n",
       "      <td>0</td>\n",
       "      <td>1</td>\n",
       "      <td>0</td>\n",
       "      <td>1</td>\n",
       "    </tr>\n",
       "  </tbody>\n",
       "</table>\n",
       "</div>"
      ],
      "text/plain": [
       "   row_id  user_id  category_id  video_id  age  followers  views  \\\n",
       "0       1    19990           37       128   24        180   1000   \n",
       "1       2     5304           32       132   14        330    714   \n",
       "2       3     1840           12        24   19        180    138   \n",
       "3       4    12597           23       112   19        220    613   \n",
       "4       5    13626           23       112   27        220    613   \n",
       "\n",
       "   engagement_score  profession_Other  profession_Student  \\\n",
       "0              4.33                 0                   1   \n",
       "1              1.79                 0                   1   \n",
       "2              4.35                 0                   1   \n",
       "3              3.77                 0                   1   \n",
       "4              3.13                 0                   0   \n",
       "\n",
       "   profession_Working Professional  gender_Female  gender_Male  \n",
       "0                                0              0            1  \n",
       "1                                0              1            0  \n",
       "2                                0              0            1  \n",
       "3                                0              0            1  \n",
       "4                                1              0            1  "
      ]
     },
     "execution_count": 22,
     "metadata": {},
     "output_type": "execute_result"
    }
   ],
   "source": [
    "dftrain.head()"
   ]
  },
  {
   "cell_type": "code",
   "execution_count": 23,
   "id": "0c7396e1",
   "metadata": {},
   "outputs": [],
   "source": [
    "dftest = pd.get_dummies(dftest, columns = categorical_cols)"
   ]
  },
  {
   "cell_type": "code",
   "execution_count": 24,
   "id": "80ef8fe6",
   "metadata": {},
   "outputs": [
    {
     "data": {
      "text/html": [
       "<div>\n",
       "<style scoped>\n",
       "    .dataframe tbody tr th:only-of-type {\n",
       "        vertical-align: middle;\n",
       "    }\n",
       "\n",
       "    .dataframe tbody tr th {\n",
       "        vertical-align: top;\n",
       "    }\n",
       "\n",
       "    .dataframe thead th {\n",
       "        text-align: right;\n",
       "    }\n",
       "</style>\n",
       "<table border=\"1\" class=\"dataframe\">\n",
       "  <thead>\n",
       "    <tr style=\"text-align: right;\">\n",
       "      <th></th>\n",
       "      <th>row_id</th>\n",
       "      <th>user_id</th>\n",
       "      <th>category_id</th>\n",
       "      <th>video_id</th>\n",
       "      <th>age</th>\n",
       "      <th>followers</th>\n",
       "      <th>views</th>\n",
       "      <th>profession_Other</th>\n",
       "      <th>profession_Student</th>\n",
       "      <th>profession_Working Professional</th>\n",
       "      <th>gender_Female</th>\n",
       "      <th>gender_Male</th>\n",
       "    </tr>\n",
       "  </thead>\n",
       "  <tbody>\n",
       "    <tr>\n",
       "      <th>0</th>\n",
       "      <td>89198</td>\n",
       "      <td>7986</td>\n",
       "      <td>12</td>\n",
       "      <td>42</td>\n",
       "      <td>14</td>\n",
       "      <td>180</td>\n",
       "      <td>138</td>\n",
       "      <td>0</td>\n",
       "      <td>1</td>\n",
       "      <td>0</td>\n",
       "      <td>0</td>\n",
       "      <td>1</td>\n",
       "    </tr>\n",
       "    <tr>\n",
       "      <th>1</th>\n",
       "      <td>89199</td>\n",
       "      <td>11278</td>\n",
       "      <td>34</td>\n",
       "      <td>115</td>\n",
       "      <td>14</td>\n",
       "      <td>230</td>\n",
       "      <td>840</td>\n",
       "      <td>0</td>\n",
       "      <td>1</td>\n",
       "      <td>0</td>\n",
       "      <td>0</td>\n",
       "      <td>1</td>\n",
       "    </tr>\n",
       "    <tr>\n",
       "      <th>2</th>\n",
       "      <td>89200</td>\n",
       "      <td>17245</td>\n",
       "      <td>8</td>\n",
       "      <td>110</td>\n",
       "      <td>44</td>\n",
       "      <td>280</td>\n",
       "      <td>628</td>\n",
       "      <td>0</td>\n",
       "      <td>0</td>\n",
       "      <td>1</td>\n",
       "      <td>1</td>\n",
       "      <td>0</td>\n",
       "    </tr>\n",
       "    <tr>\n",
       "      <th>3</th>\n",
       "      <td>89201</td>\n",
       "      <td>9851</td>\n",
       "      <td>16</td>\n",
       "      <td>137</td>\n",
       "      <td>18</td>\n",
       "      <td>270</td>\n",
       "      <td>462</td>\n",
       "      <td>0</td>\n",
       "      <td>1</td>\n",
       "      <td>0</td>\n",
       "      <td>0</td>\n",
       "      <td>1</td>\n",
       "    </tr>\n",
       "    <tr>\n",
       "      <th>4</th>\n",
       "      <td>89202</td>\n",
       "      <td>16008</td>\n",
       "      <td>34</td>\n",
       "      <td>96</td>\n",
       "      <td>47</td>\n",
       "      <td>230</td>\n",
       "      <td>840</td>\n",
       "      <td>1</td>\n",
       "      <td>0</td>\n",
       "      <td>0</td>\n",
       "      <td>1</td>\n",
       "      <td>0</td>\n",
       "    </tr>\n",
       "  </tbody>\n",
       "</table>\n",
       "</div>"
      ],
      "text/plain": [
       "   row_id  user_id  category_id  video_id  age  followers  views  \\\n",
       "0   89198     7986           12        42   14        180    138   \n",
       "1   89199    11278           34       115   14        230    840   \n",
       "2   89200    17245            8       110   44        280    628   \n",
       "3   89201     9851           16       137   18        270    462   \n",
       "4   89202    16008           34        96   47        230    840   \n",
       "\n",
       "   profession_Other  profession_Student  profession_Working Professional  \\\n",
       "0                 0                   1                                0   \n",
       "1                 0                   1                                0   \n",
       "2                 0                   0                                1   \n",
       "3                 0                   1                                0   \n",
       "4                 1                   0                                0   \n",
       "\n",
       "   gender_Female  gender_Male  \n",
       "0              0            1  \n",
       "1              0            1  \n",
       "2              1            0  \n",
       "3              0            1  \n",
       "4              1            0  "
      ]
     },
     "execution_count": 24,
     "metadata": {},
     "output_type": "execute_result"
    }
   ],
   "source": [
    "dftest.head()"
   ]
  },
  {
   "cell_type": "code",
   "execution_count": 25,
   "id": "097d2e88",
   "metadata": {},
   "outputs": [
    {
     "name": "stdout",
     "output_type": "stream",
     "text": [
      "<class 'pandas.core.frame.DataFrame'>\n",
      "RangeIndex: 89197 entries, 0 to 89196\n",
      "Data columns (total 13 columns):\n",
      " #   Column                           Non-Null Count  Dtype  \n",
      "---  ------                           --------------  -----  \n",
      " 0   row_id                           89197 non-null  int64  \n",
      " 1   user_id                          89197 non-null  int64  \n",
      " 2   category_id                      89197 non-null  int64  \n",
      " 3   video_id                         89197 non-null  int64  \n",
      " 4   age                              89197 non-null  int64  \n",
      " 5   followers                        89197 non-null  int64  \n",
      " 6   views                            89197 non-null  int64  \n",
      " 7   engagement_score                 89197 non-null  float64\n",
      " 8   profession_Other                 89197 non-null  uint8  \n",
      " 9   profession_Student               89197 non-null  uint8  \n",
      " 10  profession_Working Professional  89197 non-null  uint8  \n",
      " 11  gender_Female                    89197 non-null  uint8  \n",
      " 12  gender_Male                      89197 non-null  uint8  \n",
      "dtypes: float64(1), int64(7), uint8(5)\n",
      "memory usage: 5.9 MB\n"
     ]
    }
   ],
   "source": [
    "dftrain.info()"
   ]
  },
  {
   "cell_type": "code",
   "execution_count": 26,
   "id": "98f95268",
   "metadata": {},
   "outputs": [
    {
     "name": "stdout",
     "output_type": "stream",
     "text": [
      "<class 'pandas.core.frame.DataFrame'>\n",
      "RangeIndex: 11121 entries, 0 to 11120\n",
      "Data columns (total 12 columns):\n",
      " #   Column                           Non-Null Count  Dtype\n",
      "---  ------                           --------------  -----\n",
      " 0   row_id                           11121 non-null  int64\n",
      " 1   user_id                          11121 non-null  int64\n",
      " 2   category_id                      11121 non-null  int64\n",
      " 3   video_id                         11121 non-null  int64\n",
      " 4   age                              11121 non-null  int64\n",
      " 5   followers                        11121 non-null  int64\n",
      " 6   views                            11121 non-null  int64\n",
      " 7   profession_Other                 11121 non-null  uint8\n",
      " 8   profession_Student               11121 non-null  uint8\n",
      " 9   profession_Working Professional  11121 non-null  uint8\n",
      " 10  gender_Female                    11121 non-null  uint8\n",
      " 11  gender_Male                      11121 non-null  uint8\n",
      "dtypes: int64(7), uint8(5)\n",
      "memory usage: 662.6 KB\n"
     ]
    }
   ],
   "source": [
    "dftest.info()"
   ]
  },
  {
   "cell_type": "markdown",
   "id": "5f6928cf",
   "metadata": {},
   "source": [
    "### Observation :-\n",
    "* That is all the Features are Numeric in Nature."
   ]
  },
  {
   "cell_type": "code",
   "execution_count": 27,
   "id": "db8680b7",
   "metadata": {},
   "outputs": [],
   "source": [
    "# dftrain['engagement_score']=dftrain['engagement_score'].astype(int)"
   ]
  },
  {
   "cell_type": "code",
   "execution_count": 28,
   "id": "70a75fce",
   "metadata": {},
   "outputs": [],
   "source": [
    "# dftrain['engagement_score']"
   ]
  },
  {
   "cell_type": "markdown",
   "id": "d02a33e2",
   "metadata": {},
   "source": [
    "## Splitting data into train and test"
   ]
  },
  {
   "cell_type": "code",
   "execution_count": 37,
   "id": "13ef166c",
   "metadata": {},
   "outputs": [
    {
     "data": {
      "text/plain": [
       "((89197, 11), (89197,), (11121, 11))"
      ]
     },
     "execution_count": 37,
     "metadata": {},
     "output_type": "execute_result"
    }
   ],
   "source": [
    "X_train = dftrain.drop(['engagement_score','row_id'], axis=1)\n",
    "Y_train = dftrain[\"engagement_score\"]\n",
    "X_test  = dftest.drop(\"row_id\", axis=1).copy()\n",
    "X_train.shape, Y_train.shape, X_test.shape"
   ]
  },
  {
   "cell_type": "markdown",
   "id": "9865778c",
   "metadata": {},
   "source": [
    "## standardization of data or normalision of data"
   ]
  },
  {
   "cell_type": "code",
   "execution_count": 38,
   "id": "8e7a19dc",
   "metadata": {},
   "outputs": [],
   "source": [
    "from sklearn.preprocessing import StandardScaler\n",
    "std_x=StandardScaler()\n",
    "X_train=std_x.fit_transform(X_train)\n",
    "X_test=std_x.fit_transform(X_test)"
   ]
  },
  {
   "cell_type": "markdown",
   "id": "d7e9375b",
   "metadata": {},
   "source": [
    "## Model Building\n"
   ]
  },
  {
   "cell_type": "code",
   "execution_count": 40,
   "id": "57510e03",
   "metadata": {},
   "outputs": [
    {
     "data": {
      "text/plain": [
       "array([3.9298, 3.1954, 3.0657, ..., 3.9767, 3.8377, 3.1195])"
      ]
     },
     "execution_count": 40,
     "metadata": {},
     "output_type": "execute_result"
    }
   ],
   "source": [
    "# using random forest\n",
    "from sklearn.ensemble import RandomForestRegressor\n",
    "regressor=RandomForestRegressor(n_estimators=100,random_state=0)\n",
    "regressor.fit(X_train,Y_train)\n",
    "Y_pred=regressor.predict(X_test)\n",
    "Y_pred"
   ]
  },
  {
   "cell_type": "markdown",
   "id": "4d2a4d64",
   "metadata": {},
   "source": [
    "## Checking the performence of the model"
   ]
  },
  {
   "cell_type": "code",
   "execution_count": 41,
   "id": "3dcc573d",
   "metadata": {},
   "outputs": [
    {
     "name": "stdout",
     "output_type": "stream",
     "text": [
      "R2 score is =  0.9148955983324647\n"
     ]
    }
   ],
   "source": [
    "from sklearn.metrics import r2_score\n",
    "score=regressor.score(X_train,Y_train)\n",
    "print('R2 score is = ',score)"
   ]
  },
  {
   "cell_type": "code",
   "execution_count": 43,
   "id": "a8f30c04",
   "metadata": {},
   "outputs": [],
   "source": [
    "from sklearn.svm import SVR"
   ]
  },
  {
   "cell_type": "code",
   "execution_count": 48,
   "id": "52b79360",
   "metadata": {},
   "outputs": [],
   "source": [
    "submission = pd.DataFrame({\n",
    "        \"row_id\": dftest[\"row_id\"],\n",
    "        \"engagement_score\": Y_pred\n",
    "    })\n",
    "submission.to_csv('submission.csv', index=False)"
   ]
  },
  {
   "cell_type": "code",
   "execution_count": null,
   "id": "5ba6fe4f",
   "metadata": {},
   "outputs": [],
   "source": []
  },
  {
   "cell_type": "code",
   "execution_count": null,
   "id": "af3cb1b7",
   "metadata": {},
   "outputs": [],
   "source": []
  },
  {
   "cell_type": "code",
   "execution_count": null,
   "id": "02df0d02",
   "metadata": {},
   "outputs": [],
   "source": []
  }
 ],
 "metadata": {
  "kernelspec": {
   "display_name": "Python 3",
   "language": "python",
   "name": "python3"
  },
  "language_info": {
   "codemirror_mode": {
    "name": "ipython",
    "version": 3
   },
   "file_extension": ".py",
   "mimetype": "text/x-python",
   "name": "python",
   "nbconvert_exporter": "python",
   "pygments_lexer": "ipython3",
   "version": "3.8.3"
  }
 },
 "nbformat": 4,
 "nbformat_minor": 5
}
